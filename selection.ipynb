{
 "cells": [
  {
   "cell_type": "markdown",
   "metadata": {},
   "source": [
    "# #1"
   ]
  },
  {
   "cell_type": "markdown",
   "metadata": {},
   "source": [
    "![Первый номер](img\\1.png)"
   ]
  },
  {
   "cell_type": "markdown",
   "metadata": {},
   "source": [
    "### ПРИМЕЧАНИЕ\n",
    "\n",
    "Правильный ответ в задаче - 348. Я, честно говоря, не совсем понимаю, как это вышло. Ниже приведено мое решение. Если вы найдете в нем, что я посчитал неправильно, обязательно дайте знать."
   ]
  },
  {
   "cell_type": "markdown",
   "metadata": {},
   "source": [
    "Задача несложно решается с помощью динамического программирования. Единственное, что необходимо знать: уможение матриц $A \\in \\mathbb{R}^{m \\times m}$ и $B \\in \\mathbb{R}^{m \\times p}$ требует $O(mnp)$ операций - $mp$ скалярных произведений векторов размерности $\\mathbb{R}^{n \\times 1}$."
   ]
  },
  {
   "cell_type": "code",
   "execution_count": 1,
   "metadata": {},
   "outputs": [],
   "source": [
    "import numpy as np\n",
    "from functools import cache\n",
    "\n",
    "def matrixChainOrder(dims: list[int]) -> int:\n",
    "    @cache\n",
    "    def a(i, j):\n",
    "        return min((a(i, k) + dims[i] * dims[k] * dims[j] + a(k, j) \n",
    "                   for k in range(i + 1, j)), default=0)\n",
    "\n",
    "    return a(0, len(dims) - 1)"
   ]
  },
  {
   "cell_type": "markdown",
   "metadata": {},
   "source": [
    "$A_{10 \\times 7} B_{7 \\times 4} c_{4 \\times 1}$ требует"
   ]
  },
  {
   "cell_type": "code",
   "execution_count": 2,
   "metadata": {},
   "outputs": [
    {
     "data": {
      "text/plain": [
       "98"
      ]
     },
     "execution_count": 2,
     "metadata": {},
     "output_type": "execute_result"
    }
   ],
   "source": [
    "matrixChainOrder([10, 7, 4, 1])"
   ]
  },
  {
   "cell_type": "markdown",
   "metadata": {},
   "source": [
    "операций, что соответствует порядку $A(Bc)$: $28 + 70=98$ операций."
   ]
  },
  {
   "cell_type": "markdown",
   "metadata": {},
   "source": [
    "$D_{10 \\times 3} E_{3 \\times 8} F_{8 \\times 4} g_{4 \\times 1}$ требует"
   ]
  },
  {
   "cell_type": "code",
   "execution_count": 3,
   "metadata": {},
   "outputs": [
    {
     "data": {
      "text/plain": [
       "86"
      ]
     },
     "execution_count": 3,
     "metadata": {},
     "output_type": "execute_result"
    }
   ],
   "source": [
    "matrixChainOrder([10, 3, 8, 4, 1])"
   ]
  },
  {
   "cell_type": "markdown",
   "metadata": {},
   "source": [
    "операций, что соответствует порядку $D(E(Fg))$: $32 + 24 + 30 = 86$ операций."
   ]
  },
  {
   "cell_type": "markdown",
   "metadata": {},
   "source": [
    "плюс 10 операцмий для сложения двух векторов размерности $10 \\times 1$. \\<br>\n",
    "Итого для выполнения преобразований всего требуется"
   ]
  },
  {
   "cell_type": "code",
   "execution_count": 4,
   "metadata": {},
   "outputs": [
    {
     "data": {
      "text/plain": [
       "194"
      ]
     },
     "execution_count": 4,
     "metadata": {},
     "output_type": "execute_result"
    }
   ],
   "source": [
    "matrixChainOrder([10, 7, 4, 1]) + matrixChainOrder([10, 3, 8, 4, 1]) + 10"
   ]
  },
  {
   "cell_type": "markdown",
   "metadata": {},
   "source": [
    "операции."
   ]
  },
  {
   "cell_type": "markdown",
   "metadata": {},
   "source": [
    "Мой ответ: 194  \n",
    "Правильный ответ: 348"
   ]
  },
  {
   "cell_type": "markdown",
   "metadata": {},
   "source": [
    "# #2"
   ]
  },
  {
   "cell_type": "markdown",
   "metadata": {},
   "source": [
    "![Второй номер](img\\2.png)"
   ]
  },
  {
   "cell_type": "markdown",
   "metadata": {},
   "source": [
    "Единственное решение, которое приходит в голову - написать рекурсивный алгоритм, который бы добавлял в список длины маршрутов (которых всего 11!). Затем найти в этом списке количество максимальных вхождений. Что я и сделал."
   ]
  },
  {
   "cell_type": "markdown",
   "metadata": {},
   "source": [
    "Правильный ответ: 86400."
   ]
  },
  {
   "cell_type": "markdown",
   "metadata": {},
   "source": [
    "# #3"
   ]
  },
  {
   "cell_type": "markdown",
   "metadata": {},
   "source": [
    "![Третий номер](img\\3.png)"
   ]
  },
  {
   "cell_type": "markdown",
   "metadata": {},
   "source": [
    "$p_i = i/36$, $i = \\overline{1,8}$ согласно условию задачи. Посчитаем вероятность того, что кубик бросили не менее 3 раз:"
   ]
  },
  {
   "cell_type": "markdown",
   "metadata": {},
   "source": [
    "$P(\\text{бросили} \\geq 3 \\text{ раз}) = 1 - P(\\text{бросили} < 3 \\text{ раз}) = 1 - P(\\text{5 выпала на 1 бросок}) - P(\\text{5 выпала на 2 бросок}) = 1 - 5/36 - (1-5/36)(5/36) = 1 - (5/36)(2-5/36)=961/1296$"
   ]
  },
  {
   "cell_type": "markdown",
   "metadata": {},
   "source": [
    "Задачу можно решить и другим способом:"
   ]
  },
  {
   "cell_type": "markdown",
   "metadata": {},
   "source": [
    "$P(\\text{бросили} \\geq 3 \\text{ раз}) = \\sum_{i=3}^{\\infty} (1-5/36)^{i-1} (5/36) = (5/36) \\sum_{i=3}^{\\infty} (31/36)^{i-1} =  (5/36) \\sum_{i=2}^{\\infty} (31/36)^{i} = (5/36) \\bigg( \\big( \\sum_{i=0}^{\\infty} (31/36)^{i} \\big) - 1 - 31/36 \\bigg) = (5/36)\\bigg( \\frac{1}{1 - 31/36} - 1 - 31/36 \\bigg) = (5/36)(961/180) = 961/1296$"
   ]
  },
  {
   "cell_type": "markdown",
   "metadata": {},
   "source": [
    "Правильный ответ: 961/1296"
   ]
  },
  {
   "cell_type": "markdown",
   "metadata": {},
   "source": [
    "### #4"
   ]
  },
  {
   "cell_type": "markdown",
   "metadata": {},
   "source": [
    "![Четвертый номер](img\\4.png)"
   ]
  },
  {
   "cell_type": "markdown",
   "metadata": {},
   "source": [
    "### ПРИМЕЧАНИЕ\n",
    "Мой ответ в задаче неправильный. Опять же, если вы знаете, почеме - обязательно дайте и мне знать."
   ]
  },
  {
   "cell_type": "markdown",
   "metadata": {},
   "source": [
    "В этой задаче я в лоб считал площадь под ROC-кривой. Мне очень интересно, зачем авторы заданий дали решающее правило, если решающее правило соответствует лишь какой-то точке на ROC-кривой, а площадь под ней совершенно не зависит от решающего правила."
   ]
  },
  {
   "cell_type": "code",
   "execution_count": 18,
   "metadata": {},
   "outputs": [],
   "source": [
    "from sklearn.metrics import roc_auc_score, roc_curve\n",
    "import matplotlib.pyplot as plt\n",
    "import numpy as np"
   ]
  },
  {
   "cell_type": "code",
   "execution_count": 21,
   "metadata": {},
   "outputs": [
    {
     "data": {
      "image/png": "[encoded data removed]",
      "text/plain": [
       "<Figure size 640x480 with 1 Axes>"
      ]
     },
     "metadata": {},
     "output_type": "display_data"
    }
   ],
   "source": [
    "y_true = np.array([0, 0, 0, 1, 1, 1, 0, 1, 0, 1])\n",
    "y_score = np.array([-1, -5, 4, 5, 2, 2, -1, -4, 3, 1])\n",
    "\n",
    "fpr, tpr, thresholds = roc_curve(y_true, y_score)\n",
    "\n",
    "plt.plot(fpr, tpr);"
   ]
  },
  {
   "cell_type": "code",
   "execution_count": 22,
   "metadata": {},
   "outputs": [
    {
     "data": {
      "text/plain": [
       "0.6"
      ]
     },
     "execution_count": 22,
     "metadata": {},
     "output_type": "execute_result"
    }
   ],
   "source": [
    "roc_auc_score(y_true, y_score).round(3)"
   ]
  },
  {
   "cell_type": "markdown",
   "metadata": {},
   "source": [
    "Мой ответ: 0.6  \n",
    "Правильный ответ: 0.7"
   ]
  },
  {
   "cell_type": "markdown",
   "metadata": {},
   "source": [
    "### #5"
   ]
  },
  {
   "cell_type": "markdown",
   "metadata": {},
   "source": [
    "![Пятый номер](img\\5.png)"
   ]
  },
  {
   "cell_type": "markdown",
   "metadata": {},
   "source": [
    "### ПРИМЕЧАНИЕ\n",
    "\n",
    "Мой ответ в задаче неправильный. Если найдете ошибку в размышлениях - дайте знать."
   ]
  },
  {
   "cell_type": "markdown",
   "metadata": {},
   "source": [
    "Очевидно, оба данных условия выполняются, если никакие два изначальных центра не расположены симметрично относительно одной из вершин треугольника. В свою очередь это возможно, только если три изначальных центра кластера были друг рядом с другом. Иными словами, мы свели задачу к следующей:  \n",
    "  \n",
    "*Какова вероятность того, что три человека, сев случайным образом за одно из 15 мест за круглым столом, окажутся друг рядом с другом.*"
   ]
  },
  {
   "cell_type": "markdown",
   "metadata": {},
   "source": [
    "Считается это довольно просто. Посчитаем с помощью классической вероятности: в числителе - число всевозможных удовлетворительных исходов, в знаменателе - число всевозможных исходов в принципе. Таким образом: в числителе имеем - их можно 15 способами посадить всех вместе + 3! перестановок между ними, в знаменателе - первый имеет 15 вариантов сесть, второй - оставшиеся 14, третий - оставшиеся 13, имеем "
   ]
  },
  {
   "cell_type": "markdown",
   "metadata": {},
   "source": [
    "$15*3!/(15*14*13) = 3/91$"
   ]
  },
  {
   "cell_type": "markdown",
   "metadata": {},
   "source": [
    "Это же значение можно получить множеством других способов."
   ]
  },
  {
   "cell_type": "markdown",
   "metadata": {},
   "source": [
    "Мой ответ: 3/91  \n",
    "Правильный ответ: 3/182"
   ]
  },
  {
   "cell_type": "markdown",
   "metadata": {},
   "source": [
    "# #6"
   ]
  },
  {
   "cell_type": "markdown",
   "metadata": {},
   "source": [
    "![Шестой номер 1](img\\6_1.png)\n",
    "![Шестой номер 2](img\\6_2.png)\n",
    "![Шестой номер 3](img\\6_3.png)"
   ]
  },
  {
   "cell_type": "markdown",
   "metadata": {},
   "source": [
    "В данной задаче просто считаем изначальное количество весов: $10*30 + 10*5 + 10*5 + 10*20 = 600$. Таким образом, надо найти такие ранги матриц, при которых всего 200 весов.  \n",
    "Ниже в перменных $M1, M2, M3, M4$ хранятся количества весов при скелетном разложении матриц на всевозможные ранги. Например, $M1 = [40, 80, 120, 160, \\dots, 400, 440]$: если $\\text{rk}(B1_{10 \\times 30})=r$, то число параметров $= 10*r + r*30$, $r = \\overline{1,10}$ "
   ]
  },
  {
   "cell_type": "code",
   "execution_count": 23,
   "metadata": {},
   "outputs": [],
   "source": [
    "import numpy as np"
   ]
  },
  {
   "cell_type": "code",
   "execution_count": 24,
   "metadata": {},
   "outputs": [
    {
     "name": "stdout",
     "output_type": "stream",
     "text": [
      "2 2 2 2\n"
     ]
    }
   ],
   "source": [
    "M1 = np.arange(40, 440, 40)\n",
    "M2 = np.arange(15, 90, 15)\n",
    "M3 = np.arange(15, 90, 15)\n",
    "M4 = np.arange(30, 330, 30)\n",
    "\n",
    "for (i1, w1) in enumerate(M1):\n",
    "    for (i2, w2) in enumerate(M2):\n",
    "        for (i3, w3) in enumerate(M3):\n",
    "            for (i4, w4) in enumerate(M4):\n",
    "                if w1 + w2 + w3 + w4 == 200 and i1 * i2 * i3 * i4 != 0:\n",
    "                    print (i1+1, i2+1, i3+1, i4+1)"
   ]
  },
  {
   "cell_type": "markdown",
   "metadata": {},
   "source": [
    "Правильный ответ: 2, 2, 2, 2"
   ]
  },
  {
   "cell_type": "markdown",
   "metadata": {},
   "source": [
    "# #7"
   ]
  },
  {
   "cell_type": "markdown",
   "metadata": {},
   "source": [
    "![Седьмой номер](img\\7.png)"
   ]
  },
  {
   "cell_type": "markdown",
   "metadata": {},
   "source": [
    "Довольно таки неприятная задача. Подход следующий. Обозначим за $M$ - максимальное значение номинала карт, $m$ - минимальное значение номинала карт.  \n",
    "Нам нужно определить, для какой из колод мат. ожидание $\\mathbb{E}[M + m]$ наибольшее.  \n",
    "Сделаем это следующим образом: В силу линйености мат. ожидания  $\\mathbb{E}[M] + \\mathbb{E}[m]$. Теперь каждое из этих значений можно рассчитать за линейное время. Разберемся на примере $\\mathbb{E}[M]$:  \n",
    "\n",
    "Пусть в текущей колоде $q$ уникальных карт, каждая из которых встречается, вообще говоря, не один раз, тогда вероятность вытянуть карту $q$ обозначим за $p_q$. Значение карты $M$ будет максимальным из трех вытянутых в следующих случаях:\n",
    "* номиналы других 2ух карт равны M \n",
    "* номинал одной из 2ух других равен M, а другой - меньше M\n",
    "* номинал других 2ух карт  меньше M\n",
    "\n",
    "Аналонично для $\\mathbb{E}[m]$. Аккуратно это расписав, учтя все перестановки и тд, можем посчитать вероятности этих событий и посчитать $\\mathbb{E}[M]$ и $\\mathbb{E}[m]$ по определению.  \n",
    "Сделав все это, можно записать следующий аккуратный код."
   ]
  },
  {
   "cell_type": "code",
   "execution_count": 25,
   "metadata": {},
   "outputs": [],
   "source": [
    "from sys import stdin, stdout\n",
    "import numpy as np\n",
    "\n",
    "E_max=0\n",
    "n_max=0\n",
    "\n",
    "N = int(stdin.readline())\n",
    "for n in range(N):\n",
    "\n",
    "    k = int(stdin.readline())\n",
    "    cards = np.array(list(map(int, stdin.readline().split())), dtype='int64')\n",
    "\n",
    "    nums = np.unique(cards)\n",
    "    probs = np.bincount(cards)\n",
    "    probs = probs[probs>0]/k\n",
    "\n",
    "    less = np.zeros_like(probs)\n",
    "    less[1:] = np.cumsum(probs)[:-1]\n",
    "\n",
    "    great = np.zeros_like(probs)\n",
    "    great[:-1] = np.cumsum(probs[::-1])[::-1][1:]\n",
    "\n",
    "    gr_eq = np.zeros_like(probs)\n",
    "    gr_eq[:-1] = np.cumsum((probs**2)[::-1])[::-1][1:]\n",
    "\n",
    "    l_eq = np.zeros_like(probs)\n",
    "    l_eq[1:] = np.cumsum((probs**2))[:-1]\n",
    "\n",
    "    tmp = np.roll(probs, 1)\n",
    "    tmp1 = np.cumsum(probs[::-1])[::-1] * tmp\n",
    "    gr_neq = np.cumsum(tmp1[::-1])[::-1]\n",
    "    gr_neq[:-2] = gr_neq[2:]\n",
    "    gr_neq[-2:]=0\n",
    "\n",
    "    tmp = np.roll(probs, -1)\n",
    "    tmp1 = np.cumsum(probs) * tmp\n",
    "    l_neq = np.cumsum(tmp1)\n",
    "    l_neq[2:] = l_neq[:-2]\n",
    "    l_neq[:2]=0\n",
    "\n",
    "    p_min = probs**3 + 3 * probs**2 * great + 3 * probs * gr_eq + 6 * probs * gr_neq\n",
    "    p_max = probs**3 + 3 * probs**2 * less + 3 * probs * l_eq + 6 * probs * l_neq\n",
    "\n",
    "    E = (nums * (p_min + p_max)).sum()\n",
    "\n",
    "    if (E > E_max):\n",
    "        n_max = n\n",
    "        E_max = E\n",
    "\n",
    "stdout.write(str(n_max+1) + ' ' + str(E_max))"
   ]
  },
  {
   "cell_type": "markdown",
   "metadata": {},
   "source": [
    "Данный код прошел все тесты"
   ]
  },
  {
   "cell_type": "markdown",
   "metadata": {},
   "source": [
    "# #8"
   ]
  },
  {
   "cell_type": "markdown",
   "metadata": {},
   "source": [
    "![Восьмой номер](img\\8.png)"
   ]
  },
  {
   "cell_type": "markdown",
   "metadata": {},
   "source": [
    "В этой задаче можно заметить, что изменение координат друзей $\\vec{a}$ за один круг можно записать при помощи матричного умножения: $\\vec{a}_i = M  \\vec{a}_{i-1}$. Тогда за $k$ кругов их координаты станут равны $\\vec{a}_k = M^k  \\vec{a}_{0}$. Остается лишь возвести матрицу в степень $\\sim 10^9$ :)  \n",
    "Звучит страшно, но делается все довольно просто. Можно заметить, что, например $M^{10} = ((M^2)^2)^2 * (M^2) $. То есть вместо умножения матрицы на саму себя 9 раза, мы лишь 3 раза возвели в квадрат (3 умножения) и 1 раз умножили - всего 4 умножения. А ведь так можно сделать с любой степенью. Для этого получаем двоичное представление степени $k$. И храним две матрицы: одну, чтобы постоянно возводить в квадрат (умножать на себя), другая - конечная, котоую мы умножаем на первую лишь при необходимости (когда встречаем 1 в двоичном представлении степени). Таким образом, мы свели $O(k)$ к $O(\\log_2 k)$.  \n",
    "Достаточно аккуратный код написан ниже."
   ]
  },
  {
   "cell_type": "code",
   "execution_count": null,
   "metadata": {},
   "outputs": [],
   "source": [
    "from sys import stdin, stdout\n",
    "import numpy as np\n",
    "\n",
    "T = int(stdin.readline())\n",
    "\n",
    "for t in range(T):\n",
    "\n",
    "    n, k = list(map(int, stdin.readline().split()))\n",
    "\n",
    "    a = np.array(list(map(int, stdin.readline().split())), dtype='ulonglong')\n",
    "\n",
    "    mat = np.ones((1,n-1))\n",
    "    for i in range(n-1):\n",
    "        tmp = np.zeros(n-1)\n",
    "        tmp[i+1:] = 1\n",
    "        mat = np.vstack([mat, mat.sum(0) + tmp])\n",
    "    mat = np.hstack([np.zeros((n,1)), mat])\n",
    "    mat = mat.astype('ulonglong')\n",
    "\n",
    "    powers = [1 if k & (1 << (30-_)) else 0 for _ in range(31)][::-1]\n",
    "\n",
    "    final_mat = np.eye(n, dtype='ulonglong')\n",
    "    for i, power in enumerate(powers):\n",
    "        if power==1:\n",
    "            final_mat = (mat @ final_mat) % 1000000007\n",
    "        mat = np.linalg.matrix_power(mat, 2) % 1000000007\n",
    "\n",
    "    a = ((final_mat @ a) % 1000000007).astype('ulonglong')\n",
    "\n",
    "    stdout.write(' '.join(map(str,a)) + '\\n')"
   ]
  },
  {
   "cell_type": "markdown",
   "metadata": {},
   "source": [
    "Данный код прошел все тесты"
   ]
  },
  {
   "cell_type": "markdown",
   "metadata": {},
   "source": [
    "# #9"
   ]
  },
  {
   "cell_type": "markdown",
   "metadata": {},
   "source": [
    "![Девятый номер 1](img\\9_1.png)\n",
    "![Девятый номер 2](img\\9_2.png)"
   ]
  },
  {
   "cell_type": "markdown",
   "metadata": {},
   "source": [
    "Достаточно простая задача на динамической программирование. На каждом шаге мы максимизируем сумме релевантностей. Затем, зная релевантность в каждой точке и максимальную сумму релевантностей, чтобы дойти до этой точке, мы можем восстановить маршрут."
   ]
  },
  {
   "cell_type": "code",
   "execution_count": 1,
   "metadata": {},
   "outputs": [],
   "source": [
    "from sys import stdin, stdout\n",
    "import numpy as np\n",
    "\n",
    "\n",
    "\n",
    "n = int(stdin.readline())\n",
    "m = int(stdin.readline())\n",
    "\n",
    "A = np.array(list(map(int, stdin.readline().split(','))))\n",
    "for i in range(1, n):\n",
    "    A = np.vstack([A, np.array(list(map(int, stdin.readline().split(','))))])\n",
    "\n",
    "Sum = np.zeros_like(A)\n",
    "Sum[0,:] = np.cumsum(A[0])\n",
    "\n",
    "path = np.zeros_like(A)\n",
    "path[n-1, m-1] = 1\n",
    "path[0, 0] = 1\n",
    "\n",
    "\n",
    "for i in range(1, n):\n",
    "    for j in range(i, m):\n",
    "        Sum[i,j] = A[i,j] + max(Sum[i-1,j-1], Sum[i,j-1])\n",
    "\n",
    "\n",
    "i=n-1\n",
    "j=m-1\n",
    "while(i!=0):\n",
    "    if Sum[i, j] == Sum[i-1, j-1] + A[i, j]:\n",
    "        path[i-1,j-1]=1\n",
    "        i-=1\n",
    "        j-=1\n",
    "    else:\n",
    "        path[i, j-1]=1\n",
    "        j-=1\n",
    "\n",
    "path[0,:j+1] = 1\n",
    "\n",
    "for row in path:\n",
    "    stdout.write(', '.join(map(str,row)) + '\\n')"
   ]
  },
  {
   "cell_type": "markdown",
   "metadata": {},
   "source": [
    "Данный код прошел все тесты"
   ]
  },
  {
   "cell_type": "markdown",
   "metadata": {},
   "source": [
    "# #10"
   ]
  },
  {
   "cell_type": "markdown",
   "metadata": {},
   "source": [
    "![Десятый номер 1](img\\10_1.png)\n",
    "![Десятый номер 2](img\\10_2.png)\n",
    "![Десятый номер 3](img\\10_3.png)\n",
    "![Десятый номер 4](img\\10_4.png)\n",
    "![Десятый номер 5](img\\10_5.png)"
   ]
  },
  {
   "cell_type": "markdown",
   "metadata": {},
   "source": [
    "Задача решается, что называется в лоб. Если вы когда-либо писали сетку с нуля, либо хотя бы имеете пресдтавление о том, что такое forward pass и back propagation, то у вас не возникнет проблем с написанием кода. Иначе, рекомендую обратиться к любой учебной литературе."
   ]
  },
  {
   "cell_type": "code",
   "execution_count": null,
   "metadata": {},
   "outputs": [],
   "source": [
    "from sys import stdin, stdout\n",
    "import numpy as np\n",
    "\n",
    "n = int(stdin.readline())\n",
    "m = int(stdin.readline())\n",
    "\n",
    "X = np.array(list(map(float, stdin.readline().split())))\n",
    "for i in range(n-1):\n",
    "    X = np.vstack([X, np.array(list(map(float, stdin.readline().split())))])\n",
    "\n",
    "p = int(stdin.readline())\n",
    "q = int(stdin.readline())\n",
    "\n",
    "W = np.array(list(map(float, stdin.readline().split())))\n",
    "for i in range(p-1):\n",
    "    W = np.vstack([W, np.array(list(map(float, stdin.readline().split())))])\n",
    "W=W.T\n",
    "\n",
    "grad_wr = np.tile(np.sign(X).sum(0).reshape(-1,1), W.shape[1]).T\n",
    "\n",
    "grad_xb = np.tile(np.sign(W).sum(1).reshape(-1,1), X.shape[0]).T\n",
    "approx_deriv = np.zeros_like(X) + np.where(np.logical_and(-1<=X, X<0), (2*X+2), 0) + np.where(np.logical_and(0<=X, X<1), (-2*X+2), 0)\n",
    "grad_xr = grad_xb * approx_deriv\n",
    "\n",
    "for row in grad_xr:\n",
    "    stdout.write(' '.join(map(str,row)) + '\\n')\n",
    "\n",
    "for row in grad_wr:\n",
    "    stdout.write(' '.join(map(str,row)) + '\\n')"
   ]
  },
  {
   "cell_type": "markdown",
   "metadata": {},
   "source": [
    "Данный код прошел все тесты"
   ]
  },
  {
   "cell_type": "markdown",
   "metadata": {},
   "source": [
    "# #11"
   ]
  },
  {
   "cell_type": "markdown",
   "metadata": {},
   "source": [
    "![Одиннадцатый номер](img\\11.png)"
   ]
  },
  {
   "cell_type": "markdown",
   "metadata": {},
   "source": [
    "Довольное необычная задача. Модель лежит в папке \"11\". Преобразования фичей описаны. После генерации всех признаков я решил попробовать обучить модель без текстовых эмбедингов (я просто дропнул всю текстовую информацию). Обучил CatBoostRegressor, подобрал параметры при помощи байесовской оптимизации, и, к моему большому удивлению, это решение набрало максимальный скор."
   ]
  },
  {
   "cell_type": "markdown",
   "metadata": {},
   "source": [
    "# #12"
   ]
  },
  {
   "cell_type": "markdown",
   "metadata": {},
   "source": [
    "![Двенадцатый номер](img\\12.png)"
   ]
  },
  {
   "cell_type": "markdown",
   "metadata": {},
   "source": [
    "Еще одна задача регрессии. Модель лежит в папке \"12\". Тут преобразовывать фичи не пришлось, только дропнул аутлайеры пр критерию трех сигм. Обучил CatBoostRegressor, точно так же подобрал параметры и вновь набрал максимальный скор."
   ]
  },
  {
   "cell_type": "markdown",
   "metadata": {},
   "source": [
    "# #13, #14"
   ]
  },
  {
   "cell_type": "markdown",
   "metadata": {},
   "source": [
    "![Тринадцатый номер](img\\13.png)\n",
    "![Четырнадцатый номер](img\\14.png)"
   ]
  },
  {
   "cell_type": "markdown",
   "metadata": {},
   "source": [
    "Эти задачи я уже не осилил, а датасеты, к сожалению не сохранились."
   ]
  }
 ],
 "metadata": {
  "kernelspec": {
   "display_name": "Python 3",
   "language": "python",
   "name": "python3"
  },
  "language_info": {
   "codemirror_mode": {
    "name": "ipython",
    "version": 3
   },
   "file_extension": ".py",
   "mimetype": "text/x-python",
   "name": "python",
   "nbconvert_exporter": "python",
   "pygments_lexer": "ipython3",
   "version": "3.11.5"
  }
 },
 "nbformat": 4,
 "nbformat_minor": 2
}
