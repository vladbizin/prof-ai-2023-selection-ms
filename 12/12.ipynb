{
 "cells": [
  {
   "cell_type": "code",
   "execution_count": null,
   "metadata": {},
   "outputs": [],
   "source": [
    "import pandas as pd\n",
    "import numpy as np\n",
    "\n",
    "from sklearn.model_selection import cross_val_score\n",
    "\n",
    "from scipy.stats import zscore"
   ]
  },
  {
   "cell_type": "code",
   "execution_count": null,
   "metadata": {},
   "outputs": [],
   "source": [
    "all_data = pd.read_csv('train.csv')\n",
    "test_data = pd.read_csv('test.csv')\n",
    "submission = pd.DataFrame(columns = pd.read_csv('sample_submission.csv').columns)"
   ]
  },
  {
   "cell_type": "code",
   "execution_count": null,
   "metadata": {},
   "outputs": [],
   "source": [
    "X = all_data[['x', 'y', 'z']]\n",
    "\n",
    "y_x = all_data['u_x'].values\n",
    "y_y = all_data['u_y'].values\n",
    "y_z = all_data['u_z'].values\n",
    "y_p = all_data['p'].values"
   ]
  },
  {
   "cell_type": "markdown",
   "metadata": {},
   "source": [
    "Drop outliers"
   ]
  },
  {
   "cell_type": "code",
   "execution_count": null,
   "metadata": {},
   "outputs": [],
   "source": [
    "def filter_data(X, y, thresh = 3):\n",
    "    mask = (np.abs(zscore(X)) < thresh).any(axis=1)\n",
    "    return X[mask], y[mask]"
   ]
  },
  {
   "cell_type": "markdown",
   "metadata": {},
   "source": [
    "### CatBoost Regressor"
   ]
  },
  {
   "cell_type": "code",
   "execution_count": null,
   "metadata": {},
   "outputs": [],
   "source": [
    "from catboost import CatBoostRegressor\n",
    "from ipywidgets import interact  \n",
    "import ipywidgets as widgets\n",
    "import optuna"
   ]
  },
  {
   "cell_type": "code",
   "execution_count": null,
   "metadata": {},
   "outputs": [],
   "source": [
    "PARAMS = []\n",
    "for column, y in zip(submission.columns, [y_x, y_y, y_z, y_p]):\n",
    "    print(column + '\\n')\n",
    "    def objective(trial):\n",
    "        params = {\n",
    "            \"iterations\": 1000,\n",
    "            \"learning_rate\": trial.suggest_float(\"learning_rate\", 5e-3, 1e-2, log=True),\n",
    "            \"depth\": trial.suggest_int(\"depth\", 3, 8),\n",
    "            \"subsample\": trial.suggest_float(\"subsample\", 0.5, 1),\n",
    "            \"min_data_in_leaf\": trial.suggest_int(\"min_data_in_leaf\", 1, 20),\n",
    "            \"loss_function\": \"RMSE\",\n",
    "            \"task_type\": \"CPU\",\n",
    "            \"thread_count\": 16,\n",
    "            \"verbose\": 0,\n",
    "            \"bootstrap_type\": \"MVS\"\n",
    "        }\n",
    "        model = CatBoostRegressor(**params)\n",
    "        return -cross_val_score(model, *filter_data(X, y), scoring='neg_mean_absolute_error', cv = 5).mean()\n",
    "\n",
    "    study = optuna.create_study(direction='minimize')\n",
    "    study.optimize(objective, n_trials=20)\n",
    "\n",
    "    params = study.best_params.copy()\n",
    "    params['iterations'] = 10000\n",
    "    params['verbose'] = 0\n",
    "    PARAMS.append(params)\n",
    "    model = CatBoostRegressor(**params).fit(*filter_data(X, y))\n",
    "    submission[column] = model.predict(test_data)"
   ]
  },
  {
   "cell_type": "code",
   "execution_count": null,
   "metadata": {},
   "outputs": [],
   "source": [
    "submission.to_csv('submission.csv', index=False)"
   ]
  }
 ],
 "metadata": {
  "kernelspec": {
   "display_name": "Python 3",
   "language": "python",
   "name": "python3"
  },
  "language_info": {
   "codemirror_mode": {
    "name": "ipython",
    "version": 3
   },
   "file_extension": ".py",
   "mimetype": "text/x-python",
   "name": "python",
   "nbconvert_exporter": "python",
   "pygments_lexer": "ipython3",
   "version": "3.11.5"
  }
 },
 "nbformat": 4,
 "nbformat_minor": 2
}
