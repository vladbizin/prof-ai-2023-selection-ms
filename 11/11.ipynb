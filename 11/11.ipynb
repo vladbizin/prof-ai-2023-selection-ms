{
 "cells": [
  {
   "cell_type": "code",
   "execution_count": null,
   "metadata": {},
   "outputs": [],
   "source": [
    "import pandas as pd\n",
    "import numpy as np\n",
    "import re as re\n",
    "from sklearn.model_selection import cross_val_score\n",
    "from sklearn.metrics import r2_score"
   ]
  },
  {
   "cell_type": "code",
   "execution_count": null,
   "metadata": {},
   "outputs": [],
   "source": [
    "X_train = pd.read_csv('producthunt_train.csv')\n",
    "X_train.drop(columns=['id'], inplace=True)\n",
    "\n",
    "X_test = pd.read_csv('producthunt_test.csv')\n",
    "X_test.drop(columns=['id'], inplace=True)\n",
    "\n",
    "X_train, y_train = X_train.drop(columns=['votesCount']), X_train['votesCount']"
   ]
  },
  {
   "cell_type": "markdown",
   "metadata": {},
   "source": [
    "### Data Preprocess"
   ]
  },
  {
   "cell_type": "markdown",
   "metadata": {},
   "source": [
    "#### Handle slug and name"
   ]
  },
  {
   "cell_type": "code",
   "execution_count": null,
   "metadata": {},
   "outputs": [],
   "source": [
    "def search_words(text):\n",
    "    if not isinstance(text, str):\n",
    "        return str(text)\n",
    "    result = re.findall(r'\\b[^\\d\\W]+\\b', text)\n",
    "    return \" \".join(result)"
   ]
  },
  {
   "cell_type": "code",
   "execution_count": null,
   "metadata": {},
   "outputs": [],
   "source": [
    "for X in [X_train, X_test]:\n",
    "    X['slug'] = X['slug'].apply(lambda x : search_words(x))\n",
    "    X['name'] = X['name'].apply(lambda x : search_words(x))\n",
    "\n",
    "    X['slug'] = X['slug'].str.replace(' ', '')\n",
    "    X['name'] = X['name'].str.replace(' ', '')\n",
    "\n",
    "    X['slug'] = X['slug'].str.lower()\n",
    "    X['name'] = X['name'].str.lower()"
   ]
  },
  {
   "cell_type": "markdown",
   "metadata": {},
   "source": [
    "See if slug is same as name (almost)"
   ]
  },
  {
   "cell_type": "code",
   "execution_count": null,
   "metadata": {},
   "outputs": [],
   "source": [
    "for X in [X_train, X_test]:\n",
    "    X['slug_is_name'] = X['slug'] == X['name']"
   ]
  },
  {
   "cell_type": "code",
   "execution_count": null,
   "metadata": {},
   "outputs": [],
   "source": [
    "for X in [X_train, X_test]:\n",
    "    X['slug_len'] = X['slug'].apply(lambda x: len(x))\n",
    "    X['name_len'] = X['name'].apply(lambda x: len(x))"
   ]
  },
  {
   "cell_type": "markdown",
   "metadata": {},
   "source": [
    "#### Handling topics"
   ]
  },
  {
   "cell_type": "markdown",
   "metadata": {},
   "source": [
    "Getting lists of topics in column"
   ]
  },
  {
   "cell_type": "code",
   "execution_count": null,
   "metadata": {},
   "outputs": [],
   "source": [
    "for X in [X_train, X_test]:\n",
    "    X['topics'] = X['topics'].apply(\n",
    "        lambda x:\n",
    "        set(x.split(', ')) if isinstance(x, str)\n",
    "        else set(str(x))\n",
    "    )"
   ]
  },
  {
   "cell_type": "markdown",
   "metadata": {},
   "source": [
    "Getting set of all topics"
   ]
  },
  {
   "cell_type": "code",
   "execution_count": null,
   "metadata": {},
   "outputs": [],
   "source": [
    "all_topics = set()\n",
    "for X in [X_train, X_test]:\n",
    "    for topics in X['topics']:\n",
    "        for topic in topics:\n",
    "            all_topics.add(topic)"
   ]
  },
  {
   "cell_type": "markdown",
   "metadata": {},
   "source": [
    "One hot encode topics and get topics count"
   ]
  },
  {
   "cell_type": "code",
   "execution_count": null,
   "metadata": {},
   "outputs": [],
   "source": [
    "for X in [X_train, X_test]:\n",
    "    for topic in all_topics:\n",
    "        X[topic] = False\n",
    "\n",
    "    X['n_topics'] = 0\n",
    "    for index, row in X.iterrows():\n",
    "        X.at[index, 'n_topics'] = len(row['topics'])\n",
    "        for topic in row['topics']:\n",
    "            X.at[index, topic] = True"
   ]
  },
  {
   "cell_type": "markdown",
   "metadata": {},
   "source": [
    "Drop topics"
   ]
  },
  {
   "cell_type": "code",
   "execution_count": null,
   "metadata": {},
   "outputs": [],
   "source": [
    "for X in [X_train, X_test]:\n",
    "    X.drop(columns=['topics'], inplace=True)"
   ]
  },
  {
   "cell_type": "markdown",
   "metadata": {},
   "source": [
    "#### Handling date time"
   ]
  },
  {
   "cell_type": "code",
   "execution_count": null,
   "metadata": {},
   "outputs": [],
   "source": [
    "for X in [X_train, X_test]:\n",
    "    X['datetime'] = X['dateAdded'] + ' ' + X['timeAdded']\n",
    "    X.drop(columns=['dateAdded', 'timeAdded'], inplace=True)\n",
    "    X['datetime'] = pd.to_datetime(X['datetime'], format='%Y-%m-%d %H:%M:%S')"
   ]
  },
  {
   "cell_type": "code",
   "execution_count": null,
   "metadata": {},
   "outputs": [],
   "source": [
    "assign_dict_time = {\n",
    "    'year': lambda x: x.datetime.dt.year,\n",
    "    'month': lambda x: x.datetime.dt.month,\n",
    "    'day_of_week': lambda x: x.datetime.dt.day_of_week,\n",
    "    'time': lambda x: x.datetime.dt.hour\n",
    "}"
   ]
  },
  {
   "cell_type": "code",
   "execution_count": null,
   "metadata": {},
   "outputs": [],
   "source": [
    "X_train = X_train.assign(**assign_dict_time)\n",
    "X_test = X_test.assign(**assign_dict_time)"
   ]
  },
  {
   "cell_type": "markdown",
   "metadata": {},
   "source": [
    "Get seasons"
   ]
  },
  {
   "cell_type": "code",
   "execution_count": null,
   "metadata": {},
   "outputs": [],
   "source": [
    "for X in [X_train, X_test]:\n",
    "    X['season'] = 'winter'\n",
    "    X.loc[(8<=X['datetime'].dt.month) & (X['datetime'].dt.month<=10), 'season'] = 'fall'\n",
    "    X.loc[(2<=X['datetime'].dt.month) & (X['datetime'].dt.month<=4), 'season'] = 'spring'\n",
    "    X.loc[(5<=X['datetime'].dt.month) & (X['datetime'].dt.month<=7), 'season'] = 'summer'"
   ]
  },
  {
   "cell_type": "markdown",
   "metadata": {},
   "source": [
    "Get weekend"
   ]
  },
  {
   "cell_type": "code",
   "execution_count": null,
   "metadata": {},
   "outputs": [],
   "source": [
    "for X in [X_train, X_test]:\n",
    "    X['weekend'] = False\n",
    "    X.loc[X['datetime'].dt.day_of_week > 4, 'weekend'] = True"
   ]
  },
  {
   "cell_type": "markdown",
   "metadata": {},
   "source": [
    "Get daypart"
   ]
  },
  {
   "cell_type": "code",
   "execution_count": null,
   "metadata": {},
   "outputs": [],
   "source": [
    "for X in [X_train, X_test]:\n",
    "    X['daypart'] = 'evening'\n",
    "    X.loc[(0<=X['datetime'].dt.hour) & (X['datetime'].dt.hour<5), 'daypart'] = 'night'\n",
    "    X.loc[(5<=X['datetime'].dt.hour) & (X['datetime'].dt.hour<12), 'daypart'] = 'morning'\n",
    "    X.loc[(12<=X['datetime'].dt.hour) & (X['datetime'].dt.hour<5), 'daypart'] = 'day'"
   ]
  },
  {
   "cell_type": "code",
   "execution_count": null,
   "metadata": {},
   "outputs": [],
   "source": [
    "for X in [X_train, X_test]:\n",
    "    X.drop(columns='datetime', inplace=True)"
   ]
  },
  {
   "cell_type": "markdown",
   "metadata": {},
   "source": [
    "#### Final touch"
   ]
  },
  {
   "cell_type": "code",
   "execution_count": null,
   "metadata": {},
   "outputs": [],
   "source": [
    "for X in [X_train, X_test]:\n",
    "    X.drop(columns=['slug', 'name', 'tagline'], inplace=True)"
   ]
  },
  {
   "cell_type": "code",
   "execution_count": null,
   "metadata": {},
   "outputs": [],
   "source": [
    "from sklearn.preprocessing import OrdinalEncoder\n",
    "enc = OrdinalEncoder()"
   ]
  },
  {
   "cell_type": "code",
   "execution_count": null,
   "metadata": {},
   "outputs": [],
   "source": [
    "enc.fit(pd.concat([X_train, X_test]))"
   ]
  },
  {
   "cell_type": "code",
   "execution_count": null,
   "metadata": {},
   "outputs": [],
   "source": [
    "X_train = enc.transform(X_train)"
   ]
  },
  {
   "cell_type": "code",
   "execution_count": null,
   "metadata": {},
   "outputs": [],
   "source": [
    "X_test = enc.transform(X_test)"
   ]
  },
  {
   "cell_type": "markdown",
   "metadata": {},
   "source": [
    "### Learn model"
   ]
  },
  {
   "cell_type": "markdown",
   "metadata": {},
   "source": [
    "#### CatBoost Regressor"
   ]
  },
  {
   "cell_type": "code",
   "execution_count": null,
   "metadata": {},
   "outputs": [],
   "source": [
    "from catboost import CatBoostRegressor\n",
    "from ipywidgets import interact  \n",
    "import ipywidgets as widgets\n",
    "import optuna"
   ]
  },
  {
   "cell_type": "code",
   "execution_count": null,
   "metadata": {},
   "outputs": [],
   "source": [
    "def objective(trial):\n",
    "    params = {\n",
    "        \"iterations\": 100,\n",
    "        \"learning_rate\": trial.suggest_float(\"learning_rate\", 1e-2, 1, log=True),\n",
    "        \"depth\": trial.suggest_int(\"depth\", 3, 8),\n",
    "        \"subsample\": trial.suggest_float(\"subsample\", 0.5, 1),\n",
    "        \"min_data_in_leaf\": trial.suggest_int(\"min_data_in_leaf\", 1, 20),\n",
    "        \"loss_function\": \"RMSE\",\n",
    "        \"task_type\": \"CPU\",\n",
    "        \"thread_count\": 16,\n",
    "        \"verbose\": 0,\n",
    "        \"bootstrap_type\": \"MVS\"\n",
    "    }\n",
    "    model = CatBoostRegressor(**params)\n",
    "    return cross_val_score(model, X, y, scoring='r2', cv = 5).mean()\n",
    "\n",
    "study = optuna.create_study(direction='maximize')\n",
    "study.optimize(objective, n_trials=20)\n",
    "\n",
    "print('Best R2:', study.best_value)\n",
    "\n",
    "params = study.best_params.copy()\n",
    "params['iterations'] = 1000\n",
    "params['verbose'] = 1"
   ]
  },
  {
   "cell_type": "code",
   "execution_count": null,
   "metadata": {},
   "outputs": [],
   "source": [
    "model = CatBoostRegressor(**params)\n",
    "model.fit(X_train, y_train)"
   ]
  },
  {
   "cell_type": "code",
   "execution_count": null,
   "metadata": {},
   "outputs": [],
   "source": [
    "y_pred = model.predict(X_test)\n",
    "y_pred = y_pred.astype(int)\n",
    "y_pred[y_pred < 0] = 0"
   ]
  },
  {
   "cell_type": "code",
   "execution_count": null,
   "metadata": {},
   "outputs": [],
   "source": [
    "submission = pd.DataFrame(index = pd.read_csv('producthunt_test.csv').id, data = y_pred, columns=['votesCount'])\n",
    "submission.to_csv('submission.csv')"
   ]
  }
 ],
 "metadata": {
  "kernelspec": {
   "display_name": "Python 3",
   "language": "python",
   "name": "python3"
  },
  "language_info": {
   "codemirror_mode": {
    "name": "ipython",
    "version": 3
   },
   "file_extension": ".py",
   "mimetype": "text/x-python",
   "name": "python",
   "nbconvert_exporter": "python",
   "pygments_lexer": "ipython3",
   "version": "3.11.5"
  }
 },
 "nbformat": 4,
 "nbformat_minor": 2
}
